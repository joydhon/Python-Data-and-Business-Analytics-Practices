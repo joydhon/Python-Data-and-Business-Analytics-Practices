{
 "cells": [
  {
   "cell_type": "code",
   "execution_count": 5,
   "id": "c751b7bd",
   "metadata": {},
   "outputs": [
    {
     "name": "stdout",
     "output_type": "stream",
     "text": [
      "C is greater than or equal 36\n",
      "Program finished\n"
     ]
    }
   ],
   "source": [
    "a = 30\n",
    "b = 6\n",
    "c = a + b\n",
    "if c > 40:\n",
    "    print(\"C is greater than 40\")\n",
    "elif c >= 36:\n",
    "    print(\"C is greater than or equal 36\")\n",
    "elif c > 20:\n",
    "    print(\"C is greater than 20\")\n",
    "else:\n",
    "    print(c)\n",
    "print(\"Program finished\")"
   ]
  },
  {
   "cell_type": "code",
   "execution_count": 7,
   "id": "a8a69a19",
   "metadata": {},
   "outputs": [
    {
     "name": "stdout",
     "output_type": "stream",
     "text": [
      "15\n",
      "14\n",
      "13\n",
      "12\n",
      "11\n",
      "10\n",
      "9\n",
      "8\n",
      "7\n",
      "6\n",
      "5\n",
      "4\n",
      "3\n",
      "2\n",
      "1\n",
      "Program finished\n"
     ]
    }
   ],
   "source": [
    "# Loop\n",
    "# while loop\n",
    "x = 15\n",
    "while x > 0:\n",
    "    print(x)\n",
    "    x = x - 1\n",
    "#     x = x + 1\n",
    "#     if x == 20:\n",
    "#     continue\n",
    "#     x += 2\n",
    "print(\"Program finished\")"
   ]
  },
  {
   "cell_type": "code",
   "execution_count": 14,
   "id": "0b4887a5",
   "metadata": {},
   "outputs": [
    {
     "name": "stdout",
     "output_type": "stream",
     "text": [
      "14\n",
      "12\n",
      "10\n",
      "8\n",
      "6\n",
      "4\n",
      "2\n",
      "Program finished\n"
     ]
    }
   ],
   "source": [
    "# Loop\n",
    "# while loop\n",
    "# print only odd numbers\n",
    "x = 15\n",
    "while x > 0:\n",
    "    y = x\n",
    "    x = x - 1\n",
    "    rem = y % 2\n",
    "    if rem == 1:\n",
    "        continue\n",
    "    print(y)\n",
    "#     x = x + 1\n",
    "#     if x == 20:\n",
    "#     continue\n",
    "#     x += 2\n",
    "print(\"Program finished\")"
   ]
  },
  {
   "cell_type": "code",
   "execution_count": 15,
   "id": "b227bf63",
   "metadata": {},
   "outputs": [
    {
     "name": "stdout",
     "output_type": "stream",
     "text": [
      "0\n",
      "1\n",
      "2\n",
      "3\n",
      "4\n",
      "5\n",
      "6\n",
      "7\n",
      "8\n",
      "9\n",
      "10\n",
      "Program finished\n"
     ]
    }
   ],
   "source": [
    "# Loop\n",
    "# while loop\n",
    "# print upto 10\n",
    "x = 0\n",
    "while True:\n",
    "    print(x)\n",
    "    x = x + 1\n",
    "    if x > 10:\n",
    "        break\n",
    "#     x = x + 1\n",
    "#     if x == 20:\n",
    "#     continue\n",
    "#     x += 2\n",
    "print(\"Program finished\")"
   ]
  },
  {
   "cell_type": "code",
   "execution_count": 16,
   "id": "2d607af9",
   "metadata": {},
   "outputs": [
    {
     "name": "stdout",
     "output_type": "stream",
     "text": [
      "dog\n",
      "cat\n",
      "rabbit\n"
     ]
    }
   ],
   "source": [
    "# For loop\n",
    "pets = ['dog', 'cat', 'rabbit']\n",
    "for val in pets:\n",
    "    print(val)"
   ]
  },
  {
   "cell_type": "code",
   "execution_count": 6,
   "id": "3703a2f9",
   "metadata": {},
   "outputs": [
    {
     "name": "stdout",
     "output_type": "stream",
     "text": [
      "1\n",
      "2\n",
      "3\n",
      "4\n",
      "5\n",
      "6\n",
      "7\n",
      "8\n",
      "9\n",
      "10\n"
     ]
    }
   ],
   "source": [
    "i = 1\n",
    "while i <= 10:\n",
    "    print(i)\n",
    "    i += 1 # i = i + 1"
   ]
  },
  {
   "cell_type": "code",
   "execution_count": 22,
   "id": "62979aa4",
   "metadata": {},
   "outputs": [
    {
     "name": "stdout",
     "output_type": "stream",
     "text": [
      "[1, 4, 7]\n"
     ]
    }
   ],
   "source": [
    "a = 1\n",
    "b = 10\n",
    "step = 3\n",
    "print(list(range(a, b, step)))"
   ]
  },
  {
   "cell_type": "code",
   "execution_count": 25,
   "id": "56b515e5",
   "metadata": {},
   "outputs": [
    {
     "name": "stdout",
     "output_type": "stream",
     "text": [
      "10\n",
      "9\n",
      "8\n",
      "7\n",
      "6\n",
      "5\n",
      "4\n",
      "3\n",
      "2\n",
      "1\n"
     ]
    }
   ],
   "source": [
    "for range_val in range(10, 0, -1):\n",
    "    print(range_val)"
   ]
  },
  {
   "cell_type": "code",
   "execution_count": 29,
   "id": "e47adb27",
   "metadata": {},
   "outputs": [],
   "source": [
    "# function\n",
    "def square(x):\n",
    "    return x * x"
   ]
  },
  {
   "cell_type": "code",
   "execution_count": 31,
   "id": "44fa7140",
   "metadata": {},
   "outputs": [
    {
     "name": "stdout",
     "output_type": "stream",
     "text": [
      "100\n"
     ]
    }
   ],
   "source": [
    "y = square(10)\n",
    "print(y)"
   ]
  },
  {
   "cell_type": "code",
   "execution_count": 33,
   "id": "6ee82be8",
   "metadata": {},
   "outputs": [],
   "source": [
    "# square\n",
    "def square(x=3):\n",
    "    return x * x"
   ]
  },
  {
   "cell_type": "code",
   "execution_count": 35,
   "id": "2e34185e",
   "metadata": {},
   "outputs": [
    {
     "data": {
      "text/plain": [
       "100"
      ]
     },
     "execution_count": 35,
     "metadata": {},
     "output_type": "execute_result"
    }
   ],
   "source": [
    "y = square(10)\n",
    "y"
   ]
  },
  {
   "cell_type": "code",
   "execution_count": 1,
   "id": "b0667cc4",
   "metadata": {},
   "outputs": [],
   "source": [
    "# summation of two numbers\n",
    "def sum_two(x1, x2):\n",
    "    print(z)\n",
    "    p = x1 + x2\n",
    "    return p\n",
    "\n"
   ]
  },
  {
   "cell_type": "code",
   "execution_count": 3,
   "id": "edee61ba",
   "metadata": {},
   "outputs": [
    {
     "name": "stdout",
     "output_type": "stream",
     "text": [
      "10\n",
      "5\n"
     ]
    }
   ],
   "source": [
    "z = 10\n",
    "p = sum_two(2, 3)\n",
    "print(p)"
   ]
  },
  {
   "cell_type": "code",
   "execution_count": 4,
   "id": "d1cc033a",
   "metadata": {},
   "outputs": [],
   "source": [
    "# implement a function that returns the summation from 1 to n (1 + 2 + ...)\n",
    "def sum_1_n(n):\n",
    "    sum = 0\n",
    "    for i in range(1, n+1):\n",
    "        sum = sum + i**i\n",
    "    return sum"
   ]
  },
  {
   "cell_type": "code",
   "execution_count": 5,
   "id": "0ea8b81c",
   "metadata": {},
   "outputs": [
    {
     "data": {
      "text/plain": [
       "55"
      ]
     },
     "execution_count": 5,
     "metadata": {},
     "output_type": "execute_result"
    }
   ],
   "source": [
    "sum_1_n(10)"
   ]
  },
  {
   "cell_type": "code",
   "execution_count": 9,
   "id": "3e93a373",
   "metadata": {},
   "outputs": [
    {
     "name": "stdout",
     "output_type": "stream",
     "text": [
      "['table', 'chair', 'shelf']\n",
      "['table', 'chair', 'shelf', 'rack', 'dine', 'table', 'chair', 'shelf', 'rack', 'dine']\n",
      "table\n",
      "chair\n",
      "shelf\n",
      "rack\n"
     ]
    }
   ],
   "source": [
    "# data structures\n",
    "# list\n",
    "furniture = ['table', 'chair', 'shelf', 'rack', 'dine']\n",
    "furniture_sub_list = furniture[0:3]\n",
    "print(furniture_sub_list)\n",
    "super_list = furniture * 2\n",
    "print(super_list)\n",
    "for i in furniture[0:-1]:\n",
    "    print(i)"
   ]
  },
  {
   "cell_type": "code",
   "execution_count": 10,
   "id": "df9753c8",
   "metadata": {},
   "outputs": [
    {
     "name": "stdout",
     "output_type": "stream",
     "text": [
      "index 0: value table\n",
      "index 1: value chair\n",
      "index 2: value shelf\n",
      "index 3: value rack\n",
      "index 4: value dine\n"
     ]
    }
   ],
   "source": [
    "# enumerate\n",
    "for index, value in enumerate(furniture):\n",
    "    print(f\"index {index}: value {value}\")"
   ]
  },
  {
   "cell_type": "code",
   "execution_count": 15,
   "id": "36085db7",
   "metadata": {},
   "outputs": [
    {
     "name": "stdout",
     "output_type": "stream",
     "text": [
      "item table - price: 1000\n",
      "item chair - price: 500\n",
      "item shelf - price: 200\n",
      "item rack - price: 2000\n",
      "item dine - price: 1000\n"
     ]
    }
   ],
   "source": [
    "# zip\n",
    "furniture = ['table', 'chair', 'shelf', 'rack', 'dine']\n",
    "price_list = [1000, 500, 200, 2000, 1000]\n",
    "# print(list(zip(furniture, price_list)))\n",
    "for item, price in zip(furniture, price_list):\n",
    "    print(f\"item {item} - price: {price}\")"
   ]
  },
  {
   "cell_type": "code",
   "execution_count": 18,
   "id": "f49c7508",
   "metadata": {},
   "outputs": [
    {
     "name": "stdout",
     "output_type": "stream",
     "text": [
      "Not found\n"
     ]
    }
   ],
   "source": [
    "# in and not in operator\n",
    "if 'almirah' not  in furniture:\n",
    "    print(\"Not found\")\n",
    "else:\n",
    "    print(\"found\")"
   ]
  },
  {
   "cell_type": "code",
   "execution_count": 19,
   "id": "d7f43514",
   "metadata": {},
   "outputs": [
    {
     "data": {
      "text/plain": [
       "['table', 'chair', 'shelf', 'rack', 'dine']"
      ]
     },
     "execution_count": 19,
     "metadata": {},
     "output_type": "execute_result"
    }
   ],
   "source": [
    "furniture"
   ]
  },
  {
   "cell_type": "code",
   "execution_count": 20,
   "id": "7b021f4e",
   "metadata": {},
   "outputs": [],
   "source": [
    "furniture.insert(1, 'bed')"
   ]
  },
  {
   "cell_type": "code",
   "execution_count": 21,
   "id": "8e9d7adb",
   "metadata": {},
   "outputs": [
    {
     "data": {
      "text/plain": [
       "['table', 'bed', 'chair', 'shelf', 'rack', 'dine']"
      ]
     },
     "execution_count": 21,
     "metadata": {},
     "output_type": "execute_result"
    }
   ],
   "source": [
    "furniture"
   ]
  },
  {
   "cell_type": "code",
   "execution_count": 24,
   "id": "3b937d21",
   "metadata": {},
   "outputs": [],
   "source": [
    "# furniture.append(\"bed\")\n",
    "# print(furniture)\n",
    "furniture.remove(\"bed\")"
   ]
  },
  {
   "cell_type": "code",
   "execution_count": 27,
   "id": "6d90313a",
   "metadata": {},
   "outputs": [
    {
     "data": {
      "text/plain": [
       "['table', 'chair', 'shelf', 'rack', 'dine', 'bed']"
      ]
     },
     "execution_count": 27,
     "metadata": {},
     "output_type": "execute_result"
    }
   ],
   "source": [
    "furniture"
   ]
  },
  {
   "cell_type": "code",
   "execution_count": 28,
   "id": "cd54eb13",
   "metadata": {},
   "outputs": [
    {
     "data": {
      "text/plain": [
       "['table', 'chair', 'rack', 'dine', 'bed']"
      ]
     },
     "execution_count": 28,
     "metadata": {},
     "output_type": "execute_result"
    }
   ],
   "source": [
    "del furniture[2]\n",
    "furniture"
   ]
  },
  {
   "cell_type": "code",
   "execution_count": 29,
   "id": "741840c3",
   "metadata": {},
   "outputs": [],
   "source": [
    "# tuple\n",
    "furniture = ('table', 'chair', 'rack', 'dine')"
   ]
  },
  {
   "cell_type": "code",
   "execution_count": 30,
   "id": "919d7836",
   "metadata": {},
   "outputs": [
    {
     "data": {
      "text/plain": [
       "('table', 'chair', 'rack', 'dine')"
      ]
     },
     "execution_count": 30,
     "metadata": {},
     "output_type": "execute_result"
    }
   ],
   "source": [
    "furniture"
   ]
  },
  {
   "cell_type": "code",
   "execution_count": 31,
   "id": "90b039f6",
   "metadata": {},
   "outputs": [
    {
     "data": {
      "text/plain": [
       "('chair', 'rack')"
      ]
     },
     "execution_count": 31,
     "metadata": {},
     "output_type": "execute_result"
    }
   ],
   "source": [
    "furniture[1:3]"
   ]
  },
  {
   "cell_type": "code",
   "execution_count": 32,
   "id": "0a5c800e",
   "metadata": {},
   "outputs": [
    {
     "data": {
      "text/plain": [
       "4"
      ]
     },
     "execution_count": 32,
     "metadata": {},
     "output_type": "execute_result"
    }
   ],
   "source": [
    "len(furniture)"
   ]
  },
  {
   "cell_type": "code",
   "execution_count": 64,
   "id": "afa54107",
   "metadata": {},
   "outputs": [],
   "source": [
    "fur_list = list(furniture)"
   ]
  },
  {
   "cell_type": "code",
   "execution_count": 65,
   "id": "7e831029",
   "metadata": {},
   "outputs": [
    {
     "data": {
      "text/plain": [
       "['table', 'chair', 'rack', 'dine']"
      ]
     },
     "execution_count": 65,
     "metadata": {},
     "output_type": "execute_result"
    }
   ],
   "source": [
    "fur_list"
   ]
  },
  {
   "cell_type": "code",
   "execution_count": 66,
   "id": "75846261",
   "metadata": {},
   "outputs": [
    {
     "data": {
      "text/plain": [
       "('table', 'chair', 'rack', 'dine')"
      ]
     },
     "execution_count": 66,
     "metadata": {},
     "output_type": "execute_result"
    }
   ],
   "source": [
    "fur_tuple = tuple(fur_list)\n",
    "fur_tuple"
   ]
  },
  {
   "cell_type": "code",
   "execution_count": 33,
   "id": "6c901314",
   "metadata": {},
   "outputs": [],
   "source": [
    "# dictionary\n",
    "\n",
    "dictionary_list = {'abc': 100, 'aac': 200}"
   ]
  },
  {
   "cell_type": "code",
   "execution_count": 34,
   "id": "44cd4456",
   "metadata": {},
   "outputs": [
    {
     "data": {
      "text/plain": [
       "dict"
      ]
     },
     "execution_count": 34,
     "metadata": {},
     "output_type": "execute_result"
    }
   ],
   "source": [
    "type(dictionary_list)"
   ]
  },
  {
   "cell_type": "code",
   "execution_count": 35,
   "id": "82b99485",
   "metadata": {},
   "outputs": [
    {
     "data": {
      "text/plain": [
       "100"
      ]
     },
     "execution_count": 35,
     "metadata": {},
     "output_type": "execute_result"
    }
   ],
   "source": [
    "dictionary_list['abc']"
   ]
  },
  {
   "cell_type": "code",
   "execution_count": 37,
   "id": "2a9a29f5",
   "metadata": {},
   "outputs": [
    {
     "name": "stdout",
     "output_type": "stream",
     "text": [
      "dict_values([100, 200])\n"
     ]
    }
   ],
   "source": [
    "print(dictionary_list.values())"
   ]
  },
  {
   "cell_type": "code",
   "execution_count": 38,
   "id": "2fe9693b",
   "metadata": {},
   "outputs": [
    {
     "name": "stdout",
     "output_type": "stream",
     "text": [
      "dict_keys(['abc', 'aac'])\n"
     ]
    }
   ],
   "source": [
    "print(dictionary_list.keys())"
   ]
  },
  {
   "cell_type": "code",
   "execution_count": 39,
   "id": "241bec1f",
   "metadata": {},
   "outputs": [
    {
     "name": "stdout",
     "output_type": "stream",
     "text": [
      "dict_items([('abc', 100), ('aac', 200)])\n"
     ]
    }
   ],
   "source": [
    "print(dictionary_list.items())"
   ]
  },
  {
   "cell_type": "code",
   "execution_count": 40,
   "id": "f306a39c",
   "metadata": {},
   "outputs": [
    {
     "name": "stdout",
     "output_type": "stream",
     "text": [
      "abc 100\n",
      "aac 200\n"
     ]
    }
   ],
   "source": [
    "for key, value in dictionary_list.items():\n",
    "    print(key, value)"
   ]
  },
  {
   "cell_type": "code",
   "execution_count": 41,
   "id": "85011481",
   "metadata": {},
   "outputs": [
    {
     "data": {
      "text/plain": [
       "'folder1\\\\folder2\\\\folder3'"
      ]
     },
     "execution_count": 41,
     "metadata": {},
     "output_type": "execute_result"
    }
   ],
   "source": [
    "# file handling in python\n",
    "import os\n",
    "\n",
    "os.path.join('folder1', 'folder2', 'folder3')"
   ]
  },
  {
   "cell_type": "code",
   "execution_count": 42,
   "id": "4914106a",
   "metadata": {},
   "outputs": [
    {
     "data": {
      "text/plain": [
       "'C:\\\\Users\\\\iRounge01\\\\Downloads\\\\Business Analytics - 27\\\\lectures\\\\2'"
      ]
     },
     "execution_count": 42,
     "metadata": {},
     "output_type": "execute_result"
    }
   ],
   "source": [
    "os.getcwd()"
   ]
  },
  {
   "cell_type": "code",
   "execution_count": 44,
   "id": "299d6b99",
   "metadata": {},
   "outputs": [],
   "source": [
    "os.chdir('C:\\\\Users\\\\iRounge01\\\\Downloads\\\\occupancy_data')"
   ]
  },
  {
   "cell_type": "code",
   "execution_count": 52,
   "id": "10f2f13c",
   "metadata": {},
   "outputs": [
    {
     "data": {
      "text/plain": [
       "'C:\\\\Users\\\\iRounge01\\\\Downloads\\\\occupancy_data'"
      ]
     },
     "execution_count": 52,
     "metadata": {},
     "output_type": "execute_result"
    }
   ],
   "source": [
    "os.getcwd()"
   ]
  },
  {
   "cell_type": "code",
   "execution_count": 46,
   "id": "d61b48e0",
   "metadata": {},
   "outputs": [],
   "source": [
    "os.makedirs(\"iac28\\\\new_folder\")"
   ]
  },
  {
   "cell_type": "code",
   "execution_count": 51,
   "id": "21371fd6",
   "metadata": {},
   "outputs": [],
   "source": [
    "os.mkdir(\"neew_folder\")"
   ]
  },
  {
   "cell_type": "code",
   "execution_count": 56,
   "id": "26b45230",
   "metadata": {},
   "outputs": [
    {
     "data": {
      "text/plain": [
       "False"
      ]
     },
     "execution_count": 56,
     "metadata": {},
     "output_type": "execute_result"
    }
   ],
   "source": [
    "# file/directory exists\n",
    "os.path.exists('datatrainings.txt')\n",
    "# os.path.exists('datatest.txt')"
   ]
  },
  {
   "cell_type": "code",
   "execution_count": 60,
   "id": "d141730e",
   "metadata": {},
   "outputs": [
    {
     "data": {
      "text/plain": [
       "False"
      ]
     },
     "execution_count": 60,
     "metadata": {},
     "output_type": "execute_result"
    }
   ],
   "source": [
    "# checking file or directory\n",
    "# os.path.isfile('temp1')\n",
    "# os.path.isfile('datatest.txt')\n",
    "os.path.isdir(\"datatest.txt\")"
   ]
  },
  {
   "cell_type": "code",
   "execution_count": 64,
   "id": "5a0dc604",
   "metadata": {},
   "outputs": [
    {
     "data": {
      "text/plain": [
       "196.060546875"
      ]
     },
     "execution_count": 64,
     "metadata": {},
     "output_type": "execute_result"
    }
   ],
   "source": [
    "# file size\n",
    "os.path.getsize(\"datatest.txt\") / 1024 # to convert to KB"
   ]
  },
  {
   "cell_type": "code",
   "execution_count": 78,
   "id": "ff05b189",
   "metadata": {},
   "outputs": [
    {
     "data": {
      "text/plain": [
       "['copy.txt', 'new-folder-2', 'new_folder']"
      ]
     },
     "execution_count": 78,
     "metadata": {},
     "output_type": "execute_result"
    }
   ],
   "source": [
    "# listing directories\n",
    "os.listdir('iac28')"
   ]
  },
  {
   "cell_type": "code",
   "execution_count": 68,
   "id": "b1449960",
   "metadata": {},
   "outputs": [
    {
     "data": {
      "text/plain": [
       "'copy-2.txt'"
      ]
     },
     "execution_count": 68,
     "metadata": {},
     "output_type": "execute_result"
    }
   ],
   "source": [
    "# copy file\n",
    "import shutil\n",
    "shutil.copy(\"datatest.txt\", \"copy-2.txt\")"
   ]
  },
  {
   "cell_type": "code",
   "execution_count": 70,
   "id": "d6756913",
   "metadata": {},
   "outputs": [
    {
     "data": {
      "text/plain": [
       "'iac-29'"
      ]
     },
     "execution_count": 70,
     "metadata": {},
     "output_type": "execute_result"
    }
   ],
   "source": [
    "# directory copy\n",
    "os.getcwd()\n",
    "shutil.copytree(\"iac28\", \"iac-29\")"
   ]
  },
  {
   "cell_type": "code",
   "execution_count": 71,
   "id": "623d8533",
   "metadata": {},
   "outputs": [
    {
     "data": {
      "text/plain": [
       "'iac-29-future'"
      ]
     },
     "execution_count": 71,
     "metadata": {},
     "output_type": "execute_result"
    }
   ],
   "source": [
    "# moving and renaming\n",
    "shutil.move(\"iac-29\", \"iac-29-future\")"
   ]
  },
  {
   "cell_type": "code",
   "execution_count": 77,
   "id": "0036029f",
   "metadata": {},
   "outputs": [
    {
     "ename": "FileNotFoundError",
     "evalue": "[WinError 2] The system cannot find the file specified: 'neew_folder'",
     "output_type": "error",
     "traceback": [
      "\u001b[1;31m---------------------------------------------------------------------------\u001b[0m",
      "\u001b[1;31mFileNotFoundError\u001b[0m                         Traceback (most recent call last)",
      "Input \u001b[1;32mIn [77]\u001b[0m, in \u001b[0;36m<cell line: 2>\u001b[1;34m()\u001b[0m\n\u001b[0;32m      1\u001b[0m \u001b[38;5;66;03m# deleting directory\u001b[39;00m\n\u001b[1;32m----> 2\u001b[0m \u001b[43mos\u001b[49m\u001b[38;5;241;43m.\u001b[39;49m\u001b[43mrmdir\u001b[49m\u001b[43m(\u001b[49m\u001b[38;5;124;43m\"\u001b[39;49m\u001b[38;5;124;43mneew_folder\u001b[39;49m\u001b[38;5;124;43m\"\u001b[39;49m\u001b[43m)\u001b[49m\n",
      "\u001b[1;31mFileNotFoundError\u001b[0m: [WinError 2] The system cannot find the file specified: 'neew_folder'"
     ]
    }
   ],
   "source": [
    "# deleting directory\n",
    "os.rmdir(\"neew_folder\")"
   ]
  },
  {
   "cell_type": "code",
   "execution_count": 100,
   "id": "da47331e",
   "metadata": {},
   "outputs": [
    {
     "name": "stdout",
     "output_type": "stream",
     "text": [
      "1 2 3 4 5 6 7 8 9 10 11 12$"
     ]
    }
   ],
   "source": [
    "# reading a file\n",
    "with open(\"temp.txt\" ,\"r\") as file:\n",
    "    for line in file:\n",
    "        print(line, end=\"$\")\n",
    "#     lines = file.readlines()\n",
    "#     print(lines)\n",
    "    "
   ]
  },
  {
   "cell_type": "code",
   "execution_count": 102,
   "id": "b8a0151e",
   "metadata": {},
   "outputs": [],
   "source": [
    "# writing in a file\n",
    "with open(\"iac027.txt\", \"w\") as file:\n",
    "    file.write(\"Hello I am a student\\n of IAC 28 Batch\")"
   ]
  },
  {
   "cell_type": "code",
   "execution_count": 103,
   "id": "a18d78e2",
   "metadata": {},
   "outputs": [],
   "source": [
    "# appending in a file\n",
    "with open(\"iac027.txt\", \"a\") as file:\n",
    "    file.write(\"\\nI love programming.\")"
   ]
  },
  {
   "cell_type": "code",
   "execution_count": null,
   "id": "4c4fb32f",
   "metadata": {},
   "outputs": [],
   "source": []
  }
 ],
 "metadata": {
  "kernelspec": {
   "display_name": "Python 3 (ipykernel)",
   "language": "python",
   "name": "python3"
  },
  "language_info": {
   "codemirror_mode": {
    "name": "ipython",
    "version": 3
   },
   "file_extension": ".py",
   "mimetype": "text/x-python",
   "name": "python",
   "nbconvert_exporter": "python",
   "pygments_lexer": "ipython3",
   "version": "3.11.5"
  }
 },
 "nbformat": 4,
 "nbformat_minor": 5
}
